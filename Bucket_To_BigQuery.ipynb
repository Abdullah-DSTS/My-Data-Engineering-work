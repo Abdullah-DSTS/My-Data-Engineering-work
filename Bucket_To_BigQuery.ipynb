{
 "cells": [
  {
   "cell_type": "code",
   "execution_count": 19,
   "id": "fab4d3b6-a71f-4684-8da5-e12e3d54911b",
   "metadata": {},
   "outputs": [],
   "source": [
    "import pandas as pd\n",
    "from google.cloud import storage, bigquery\n",
    "from google.oauth2 import service_account\n",
    "from io import BytesIO"
   ]
  },
  {
   "cell_type": "code",
   "execution_count": 20,
   "id": "6c2db79c-8392-4848-9fe5-1a657b96f61b",
   "metadata": {},
   "outputs": [],
   "source": [
    "credentialsPath = \"/home/cloud_user_p_13b408d8/playground-s-11-29087116-2c37b82489ba.json\"\n",
    "credentials = service_account.Credentials.from_service_account_file(credentialsPath)\n",
    "project_id = 'project-id'\n",
    "bucket_name = 'your-bucket-name'"
   ]
  },
  {
   "cell_type": "code",
   "execution_count": 21,
   "id": "45df12b4-1d00-41f3-9124-c1e1a14dea25",
   "metadata": {},
   "outputs": [],
   "source": [
    "# initializing clients \n",
    "def initialize_clients(creds, proj_id):\n",
    "    storage_client = storage.Client(credentials=creds, project=proj_id)\n",
    "    bigquery_client = bigquery.Client(credentials=creds, project=proj_id)\n",
    "    return storage_client, bigquery_client"
   ]
  },
  {
   "cell_type": "code",
   "execution_count": 22,
   "id": "620cea36-c706-44bf-955e-d31d09336620",
   "metadata": {},
   "outputs": [],
   "source": [
    "b_client, bq_client = initialize_clients(credentials, project_id)"
   ]
  },
  {
   "cell_type": "code",
   "execution_count": 23,
   "id": "84b5d70e-9dbb-4165-9314-e613c9564d5f",
   "metadata": {},
   "outputs": [],
   "source": [
    "def files_in_bucket(bucket_name, storage_client):\n",
    "    bucket = storage_client.get_bucket(bucket_name)\n",
    "\n",
    "    files = bucket.list_blobs()\n",
    "\n",
    "    file_names = [file.name for file in files]\n",
    "    return file_names"
   ]
  },
  {
   "cell_type": "code",
   "execution_count": 24,
   "id": "bc750bea-88cb-4dbe-9317-b2a3e06387fd",
   "metadata": {},
   "outputs": [
    {
     "data": {
      "text/plain": [
       "['brands.csv',\n",
       " 'categories.csv',\n",
       " 'customers.csv',\n",
       " 'order_items.csv',\n",
       " 'orders.csv',\n",
       " 'products.csv',\n",
       " 'staffs.csv',\n",
       " 'stocks.csv',\n",
       " 'stores.csv']"
      ]
     },
     "execution_count": 24,
     "metadata": {},
     "output_type": "execute_result"
    }
   ],
   "source": [
    "file_names = files_in_bucket(bucket_name, b_client)\n",
    "file_names"
   ]
  },
  {
   "cell_type": "code",
   "execution_count": 11,
   "id": "e41fc80e-b7f9-486e-b53a-fb8897c256c9",
   "metadata": {},
   "outputs": [],
   "source": [
    "def read_gcs_file_to_df(bucket_name, file_name, storage_client):\n",
    "    bucket = storage_client.bucket(bucket_name)\n",
    "    blob = bucket.blob(file_name)\n",
    "    data = blob.download_as_bytes()\n",
    "    df = pd.read_csv(BytesIO(data))\n",
    "    return df"
   ]
  },
  {
   "cell_type": "code",
   "execution_count": 12,
   "id": "af08ca32-0f0f-4541-839c-7717236bd211",
   "metadata": {},
   "outputs": [
    {
     "data": {
      "text/html": [
       "<div>\n",
       "<style scoped>\n",
       "    .dataframe tbody tr th:only-of-type {\n",
       "        vertical-align: middle;\n",
       "    }\n",
       "\n",
       "    .dataframe tbody tr th {\n",
       "        vertical-align: top;\n",
       "    }\n",
       "\n",
       "    .dataframe thead th {\n",
       "        text-align: right;\n",
       "    }\n",
       "</style>\n",
       "<table border=\"1\" class=\"dataframe\">\n",
       "  <thead>\n",
       "    <tr style=\"text-align: right;\">\n",
       "      <th></th>\n",
       "      <th>brand_id</th>\n",
       "      <th>brand_name</th>\n",
       "    </tr>\n",
       "  </thead>\n",
       "  <tbody>\n",
       "    <tr>\n",
       "      <th>0</th>\n",
       "      <td>1</td>\n",
       "      <td>Electra</td>\n",
       "    </tr>\n",
       "    <tr>\n",
       "      <th>1</th>\n",
       "      <td>2</td>\n",
       "      <td>Haro</td>\n",
       "    </tr>\n",
       "    <tr>\n",
       "      <th>2</th>\n",
       "      <td>3</td>\n",
       "      <td>Heller</td>\n",
       "    </tr>\n",
       "    <tr>\n",
       "      <th>3</th>\n",
       "      <td>4</td>\n",
       "      <td>Pure Cycles</td>\n",
       "    </tr>\n",
       "    <tr>\n",
       "      <th>4</th>\n",
       "      <td>5</td>\n",
       "      <td>Ritchey</td>\n",
       "    </tr>\n",
       "    <tr>\n",
       "      <th>5</th>\n",
       "      <td>6</td>\n",
       "      <td>Strider</td>\n",
       "    </tr>\n",
       "    <tr>\n",
       "      <th>6</th>\n",
       "      <td>7</td>\n",
       "      <td>Sun Bicycles</td>\n",
       "    </tr>\n",
       "    <tr>\n",
       "      <th>7</th>\n",
       "      <td>8</td>\n",
       "      <td>Surly</td>\n",
       "    </tr>\n",
       "    <tr>\n",
       "      <th>8</th>\n",
       "      <td>9</td>\n",
       "      <td>Trek</td>\n",
       "    </tr>\n",
       "  </tbody>\n",
       "</table>\n",
       "</div>"
      ],
      "text/plain": [
       "   brand_id    brand_name\n",
       "0         1       Electra\n",
       "1         2          Haro\n",
       "2         3        Heller\n",
       "3         4   Pure Cycles\n",
       "4         5       Ritchey\n",
       "5         6       Strider\n",
       "6         7  Sun Bicycles\n",
       "7         8         Surly\n",
       "8         9          Trek"
      ]
     },
     "execution_count": 12,
     "metadata": {},
     "output_type": "execute_result"
    }
   ],
   "source": [
    "df = read_gcs_file_to_df(bucket_name, file_names[0], b_client)\n",
    "df"
   ]
  },
  {
   "cell_type": "code",
   "execution_count": 25,
   "id": "35c79712-f535-44d6-8581-31f599e31cf1",
   "metadata": {},
   "outputs": [],
   "source": [
    "def load_data_from_gcs_to_bigquery(bucket_name, file_name, bigquery_client):\n",
    "    dataset_id = 'your-bigquery-dataset-id'\n",
    "    \n",
    "    job_config = bigquery.LoadJobConfig(\n",
    "        source_format=bigquery.SourceFormat.CSV,\n",
    "        autodetect=True,\n",
    "        skip_leading_rows=1,\n",
    "        write_disposition=\"WRITE_TRUNCATE\"\n",
    "    )\n",
    "    \n",
    "    uri = f\"gs://{bucket_name}/{file_name}\"\n",
    "\n",
    "    table_name = file_name.split(\".\")[0]\n",
    "\n",
    "    load_job = bigquery_client.load_table_from_uri(\n",
    "        uri, \n",
    "        f\"{dataset_id}.{table_name}\",\n",
    "        job_config=job_config\n",
    "    )\n",
    "\n",
    "    load_job.result()\n",
    "    print(f\"Data from {uri} loaded to BigQuery table {table_name} in dataset {dataset_id}\")"
   ]
  },
  {
   "cell_type": "code",
   "execution_count": 26,
   "id": "c8b5b15f-b18b-4e8d-8f9e-a689236cf007",
   "metadata": {},
   "outputs": [
    {
     "name": "stdout",
     "output_type": "stream",
     "text": [
      "Data from gs://gcptask/brands.csv loaded to BigQuery table brands in dataset playground-s-11-3c5604b9.BikeStore\n",
      "Data from gs://gcptask/categories.csv loaded to BigQuery table categories in dataset playground-s-11-3c5604b9.BikeStore\n",
      "Data from gs://gcptask/customers.csv loaded to BigQuery table customers in dataset playground-s-11-3c5604b9.BikeStore\n",
      "Data from gs://gcptask/order_items.csv loaded to BigQuery table order_items in dataset playground-s-11-3c5604b9.BikeStore\n",
      "Data from gs://gcptask/orders.csv loaded to BigQuery table orders in dataset playground-s-11-3c5604b9.BikeStore\n",
      "Data from gs://gcptask/products.csv loaded to BigQuery table products in dataset playground-s-11-3c5604b9.BikeStore\n",
      "Data from gs://gcptask/staffs.csv loaded to BigQuery table staffs in dataset playground-s-11-3c5604b9.BikeStore\n",
      "Data from gs://gcptask/stocks.csv loaded to BigQuery table stocks in dataset playground-s-11-3c5604b9.BikeStore\n",
      "Data from gs://gcptask/stores.csv loaded to BigQuery table stores in dataset playground-s-11-3c5604b9.BikeStore\n"
     ]
    }
   ],
   "source": [
    "for file_name in file_names:\n",
    "    load_data_from_gcs_to_bigquery(bucket_name, file_name, bq_client)"
   ]
  },
  {
   "cell_type": "code",
   "execution_count": null,
   "id": "f52c0e71-128c-4621-87c3-72f19689ed04",
   "metadata": {},
   "outputs": [],
   "source": []
  }
 ],
 "metadata": {
  "kernelspec": {
   "display_name": "Python 3 (ipykernel)",
   "language": "python",
   "name": "python3"
  },
  "language_info": {
   "codemirror_mode": {
    "name": "ipython",
    "version": 3
   },
   "file_extension": ".py",
   "mimetype": "text/x-python",
   "name": "python",
   "nbconvert_exporter": "python",
   "pygments_lexer": "ipython3",
   "version": "3.11.7"
  }
 },
 "nbformat": 4,
 "nbformat_minor": 5
}
