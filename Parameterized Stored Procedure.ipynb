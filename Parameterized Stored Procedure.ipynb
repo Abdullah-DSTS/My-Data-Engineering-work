{
 "cells": [
  {
   "cell_type": "code",
   "execution_count": null,
   "id": "f506eb82-4656-4546-a2e2-5f5f74f754c1",
   "metadata": {},
   "outputs": [],
   "source": [
    "pip install google-cloud-bigquery"
   ]
  },
  {
   "cell_type": "code",
   "execution_count": null,
   "id": "41b4973b-2ea6-44c5-a24d-21ba685ea11a",
   "metadata": {},
   "outputs": [],
   "source": [
    "pip install db-dtypes"
   ]
  },
  {
   "cell_type": "code",
   "execution_count": 6,
   "id": "45e05f2f-189e-4618-b018-061193c50e76",
   "metadata": {},
   "outputs": [
    {
     "name": "stdout",
     "output_type": "stream",
     "text": [
      "pip 23.3.1 from C:\\Users\\AU TRADERS\\anaconda3\\Lib\\site-packages\\pip (python 3.11)\n",
      "\n",
      "Note: you may need to restart the kernel to use updated packages.\n"
     ]
    }
   ],
   "source": [
    "pip --version google-cloud-bigquery"
   ]
  },
  {
   "cell_type": "code",
   "execution_count": 1,
   "id": "390f85e3-f667-4981-852b-9d2a67dc6666",
   "metadata": {},
   "outputs": [],
   "source": [
    "from google.cloud import bigquery \n",
    "from google.oauth2 import service_account\n",
    "import pandas as pd"
   ]
  },
  {
   "cell_type": "code",
   "execution_count": 2,
   "id": "04288b17-72a1-40cf-ad05-93f71d0cbed8",
   "metadata": {},
   "outputs": [],
   "source": [
    "credentialsPath = r'C:/Users/AU TRADERS/Downloads/noman-gcu-iot-jan24-2f85fa71b24c.json'\n",
    "credentials = service_account.Credentials.from_service_account_file(credentialsPath)\n",
    "\n",
    "project_id = 'project-id'\n",
    "client = bigquery.Client(credentials= credentials,project=project_id)\n",
    "\n",
    "query = client.query(\"\"\"\n",
    "   SELECT *\n",
    "   FROM noman-gcu-iot-jan24.BikeStore.brands\n",
    "    \"\"\")\n",
    "\n",
    "#results = query.result()\n",
    "\n",
    "df = query.to_dataframe()"
   ]
  },
  {
   "cell_type": "code",
   "execution_count": 3,
   "id": "e6d45b9a-6d90-44bd-9be1-3cccbca381a2",
   "metadata": {},
   "outputs": [
    {
     "data": {
      "text/html": [
       "<div>\n",
       "<style scoped>\n",
       "    .dataframe tbody tr th:only-of-type {\n",
       "        vertical-align: middle;\n",
       "    }\n",
       "\n",
       "    .dataframe tbody tr th {\n",
       "        vertical-align: top;\n",
       "    }\n",
       "\n",
       "    .dataframe thead th {\n",
       "        text-align: right;\n",
       "    }\n",
       "</style>\n",
       "<table border=\"1\" class=\"dataframe\">\n",
       "  <thead>\n",
       "    <tr style=\"text-align: right;\">\n",
       "      <th></th>\n",
       "      <th>brand_id</th>\n",
       "      <th>brand_name</th>\n",
       "    </tr>\n",
       "  </thead>\n",
       "  <tbody>\n",
       "    <tr>\n",
       "      <th>0</th>\n",
       "      <td>1</td>\n",
       "      <td>Electra</td>\n",
       "    </tr>\n",
       "    <tr>\n",
       "      <th>1</th>\n",
       "      <td>2</td>\n",
       "      <td>Haro</td>\n",
       "    </tr>\n",
       "    <tr>\n",
       "      <th>2</th>\n",
       "      <td>3</td>\n",
       "      <td>Heller</td>\n",
       "    </tr>\n",
       "    <tr>\n",
       "      <th>3</th>\n",
       "      <td>4</td>\n",
       "      <td>Pure Cycles</td>\n",
       "    </tr>\n",
       "    <tr>\n",
       "      <th>4</th>\n",
       "      <td>5</td>\n",
       "      <td>Ritchey</td>\n",
       "    </tr>\n",
       "    <tr>\n",
       "      <th>5</th>\n",
       "      <td>6</td>\n",
       "      <td>Strider</td>\n",
       "    </tr>\n",
       "    <tr>\n",
       "      <th>6</th>\n",
       "      <td>7</td>\n",
       "      <td>Sun Bicycles</td>\n",
       "    </tr>\n",
       "    <tr>\n",
       "      <th>7</th>\n",
       "      <td>8</td>\n",
       "      <td>Surly</td>\n",
       "    </tr>\n",
       "    <tr>\n",
       "      <th>8</th>\n",
       "      <td>9</td>\n",
       "      <td>Trek</td>\n",
       "    </tr>\n",
       "  </tbody>\n",
       "</table>\n",
       "</div>"
      ],
      "text/plain": [
       "   brand_id    brand_name\n",
       "0         1       Electra\n",
       "1         2          Haro\n",
       "2         3        Heller\n",
       "3         4   Pure Cycles\n",
       "4         5       Ritchey\n",
       "5         6       Strider\n",
       "6         7  Sun Bicycles\n",
       "7         8         Surly\n",
       "8         9          Trek"
      ]
     },
     "execution_count": 3,
     "metadata": {},
     "output_type": "execute_result"
    }
   ],
   "source": [
    "df"
   ]
  },
  {
   "cell_type": "code",
   "execution_count": 4,
   "id": "8b704f1f-24ac-443f-905f-bc927d0ba0cd",
   "metadata": {},
   "outputs": [
    {
     "data": {
      "text/plain": [
       "{'brand_id': [1, 2, 3, 4, 5, 6, 7, 8, 9],\n",
       " 'brand_name': ['Electra',\n",
       "  'Haro',\n",
       "  'Heller',\n",
       "  'Pure Cycles',\n",
       "  'Ritchey',\n",
       "  'Strider',\n",
       "  'Sun Bicycles',\n",
       "  'Surly',\n",
       "  'Trek']}"
      ]
     },
     "execution_count": 4,
     "metadata": {},
     "output_type": "execute_result"
    }
   ],
   "source": [
    "my_dict = {}\n",
    "for column in df.columns:\n",
    "    my_dict[column] = df[column].tolist()\n",
    "\n",
    "my_dict"
   ]
  },
  {
   "cell_type": "code",
   "execution_count": 16,
   "id": "475fe417-e1b7-40f9-916e-9a17c88d1889",
   "metadata": {},
   "outputs": [
    {
     "name": "stdout",
     "output_type": "stream",
     "text": [
      "New category added successfully.\n"
     ]
    }
   ],
   "source": [
    "procedure_name = \"full-procedure-name\"\n",
    "\n",
    "params = [\n",
    "    bigquery.ScalarQueryParameter(\"param1\", \"INT64\", 6),\n",
    "    bigquery.ScalarQueryParameter(\"param2\", \"STRING\", \"Mountain Bikes\")\n",
    "]\n",
    "\n",
    "job_config = bigquery.QueryJobConfig(\n",
    "    query_parameters=params\n",
    ")\n",
    "\n",
    "query = f\"CALL `{procedure_name}`(@param1, @param2)\"\n",
    "try:\n",
    "    query_job = client.query(query, job_config=job_config)\n",
    "    query_job.result()\n",
    "\n",
    "    print(\"New category added successfully.\")\n",
    "except Exception as e:\n",
    "    print(f\"An error occurred: {e}\")"
   ]
  },
  {
   "cell_type": "code",
   "execution_count": null,
   "id": "7537c3cb-db3a-4a79-8a07-e11a62c396c0",
   "metadata": {},
   "outputs": [],
   "source": []
  }
 ],
 "metadata": {
  "kernelspec": {
   "display_name": "Python 3 (ipykernel)",
   "language": "python",
   "name": "python3"
  },
  "language_info": {
   "codemirror_mode": {
    "name": "ipython",
    "version": 3
   },
   "file_extension": ".py",
   "mimetype": "text/x-python",
   "name": "python",
   "nbconvert_exporter": "python",
   "pygments_lexer": "ipython3",
   "version": "3.11.7"
  }
 },
 "nbformat": 4,
 "nbformat_minor": 5
}
